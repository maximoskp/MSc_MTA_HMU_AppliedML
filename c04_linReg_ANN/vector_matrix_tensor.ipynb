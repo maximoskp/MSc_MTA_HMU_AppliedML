{
  "nbformat": 4,
  "nbformat_minor": 0,
  "metadata": {
    "colab": {
      "name": "vector_matrix_tensor",
      "provenance": [],
      "collapsed_sections": []
    },
    "kernelspec": {
      "name": "python3",
      "display_name": "Python 3"
    },
    "language_info": {
      "name": "python"
    }
  },
  "cells": [
    {
      "cell_type": "code",
      "execution_count": null,
      "metadata": {
        "colab": {
          "base_uri": "https://localhost:8080/"
        },
        "id": "7cEPh8hnl4DF",
        "outputId": "90f69c26-3c48-4cbc-fe4e-f10ff159c5a8"
      },
      "outputs": [
        {
          "output_type": "stream",
          "name": "stdout",
          "text": [
            "addition:  [5 7 9]\n",
            "element-wise multiplication:  [ 4 10 18]\n",
            "inner (dot) product:  32\n"
          ]
        }
      ],
      "source": [
        "import numpy as np\n",
        "\n",
        "# vector / array\n",
        "a = np.array([1,2,3])\n",
        "b = np.array([4,5,6])\n",
        "\n",
        "# add two vectors\n",
        "c = a + b\n",
        "print('addition: ', c)\n",
        "\n",
        "# multiply two vectors:\n",
        "# - element-wise (Hadamard)\n",
        "h = a*b\n",
        "print('element-wise multiplication: ', h)\n",
        "# - inner (dot) product\n",
        "p = np.dot(a,b) # or simply: p = a@b\n",
        "print('inner (dot) product: ', p)\n",
        "\n",
        "# question: can we perform any of the above with different sizes of a and b?"
      ]
    },
    {
      "cell_type": "code",
      "source": [
        "# matrix\n",
        "m = np.array( [ [1,2,3] , [4,5,6] ])\n",
        "n = np.array( [ [11,12,13] , [14,15, 16] ])\n",
        "k = np.array( [ [21,22] , [23,24] , [25,26] ])\n",
        "\n",
        "print('n:')\n",
        "print(n)\n",
        "print('m:')\n",
        "print(m)\n",
        "print('k:')\n",
        "print(k)\n",
        "\n",
        "# addition: need to have same dimensions (same number of rows and columns)\n",
        "s = m + n\n",
        "print('addition: \\n', m+n)\n",
        "\n",
        "# multiply two matrices:\n",
        "# - element-wise (Hadamard)\n",
        "h = m*n\n",
        "print('element-wise multiplication: \\n', h)\n",
        "\n",
        "# - typical product: columns of first same as rows of second\n",
        "p = np.matmul(m,k) # 2x3 3x2 = 2x2\n",
        "print('element-wise multiplication: \\n', p)"
      ],
      "metadata": {
        "colab": {
          "base_uri": "https://localhost:8080/"
        },
        "id": "3RUGUAgnmars",
        "outputId": "293e4f8e-3e20-4377-b812-cccb9dae3d21"
      },
      "execution_count": null,
      "outputs": [
        {
          "output_type": "stream",
          "name": "stdout",
          "text": [
            "n:\n",
            "[[11 12 13]\n",
            " [14 15 16]]\n",
            "m:\n",
            "[[1 2 3]\n",
            " [4 5 6]]\n",
            "k:\n",
            "[[21 22]\n",
            " [23 24]\n",
            " [25 26]]\n",
            "addition: \n",
            " [[12 14 16]\n",
            " [18 20 22]]\n",
            "element-wise multiplication: \n",
            " [[11 24 39]\n",
            " [56 75 96]]\n",
            "element-wise multiplication: \n",
            " [[142 148]\n",
            " [349 364]]\n"
          ]
        }
      ]
    }
  ]
}