{
  "nbformat": 4,
  "nbformat_minor": 0,
  "metadata": {
    "colab": {
      "name": "ann_emopia_1.ipynb",
      "provenance": [],
      "collapsed_sections": []
    },
    "kernelspec": {
      "name": "python3",
      "display_name": "Python 3"
    },
    "language_info": {
      "name": "python"
    }
  },
  "cells": [
    {
      "cell_type": "code",
      "execution_count": null,
      "metadata": {
        "colab": {
          "base_uri": "https://localhost:8080/"
        },
        "id": "gQGJ3XwKRgGD",
        "outputId": "09e0f05e-1d36-4942-9730-6572751f4958"
      },
      "outputs": [
        {
          "output_type": "stream",
          "name": "stdout",
          "text": [
            "Mounted at /content/drive\n"
          ]
        }
      ],
      "source": [
        "from google.colab import drive\n",
        "drive.mount('/content/drive')\n",
        "\n",
        "import sys\n",
        "if sys.version_info >= (3,8):\n",
        "    import pickle\n",
        "else:\n",
        "    # !pip install pickle5\n",
        "    import pickle5 as pickle\n",
        "import os"
      ]
    },
    {
      "cell_type": "code",
      "source": [
        "# load data - data can be found here:\n",
        "# https://drive.google.com/drive/folders/1QJokFJZh1mc6PwskF3M5aWXcUzgzSQ3K?usp=sharing\n",
        "os.listdir('/content/drive/My Drive/')\n",
        "\n",
        "with open('/content/drive/My Drive/Colab_Files/emopia/featuresnp.pickle', 'rb') as f:\n",
        "    featuresnp = pickle.load( f )\n",
        "\n",
        "with open('/content/drive/My Drive/Colab_Files/emopia/domiantQsnp.pickle', 'rb') as f:\n",
        "    dominantQsnp = pickle.load( f )\n",
        "\n",
        "# outputs need to be in range starting from 0\n",
        "dominantQsnp = dominantQsnp - 1\n",
        "\n",
        "print('featuresnp.shape: ', featuresnp.shape)\n",
        "print('dominantQsnp.shape: ', dominantQsnp.shape)"
      ],
      "metadata": {
        "colab": {
          "base_uri": "https://localhost:8080/"
        },
        "id": "1NkYyYbER86Q",
        "outputId": "8fa6f441-75d3-4f8d-8e6c-11a6fcca7a9d"
      },
      "execution_count": null,
      "outputs": [
        {
          "output_type": "stream",
          "name": "stdout",
          "text": [
            "featuresnp.shape:  (1078, 17)\n",
            "dominantQsnp.shape:  (1078,)\n"
          ]
        }
      ]
    },
    {
      "cell_type": "code",
      "source": [
        "# scale features\n",
        "from sklearn.preprocessing import StandardScaler\n",
        "\n",
        "scaler = StandardScaler(with_mean=True, with_std=True)\n",
        "scaled_features = scaler.fit_transform( featuresnp )"
      ],
      "metadata": {
        "id": "YjY_r4N3WCxZ"
      },
      "execution_count": null,
      "outputs": []
    },
    {
      "cell_type": "code",
      "source": [
        "# split data\n",
        "from sklearn.model_selection import StratifiedShuffleSplit\n",
        "\n",
        "stratsplit = StratifiedShuffleSplit( n_splits = 1, test_size = 0.2, random_state = 1)\n",
        "idxs_generator = stratsplit.split( featuresnp, dominantQsnp )\n",
        "idxs_list = list (idxs_generator)\n",
        "train_idxs = idxs_list[0][0]\n",
        "test_idxs = idxs_list[0][1]\n",
        "\n",
        "train_input = scaled_features[ train_idxs , : ]\n",
        "train_output = dominantQsnp[ train_idxs ]\n",
        "\n",
        "test_input = scaled_features[ test_idxs , : ]\n",
        "test_output = dominantQsnp[ test_idxs ]"
      ],
      "metadata": {
        "colab": {
          "base_uri": "https://localhost:8080/"
        },
        "id": "7F84Kxb5V29r",
        "outputId": "f408b3e6-3488-4782-f975-84d1a092439b"
      },
      "execution_count": null,
      "outputs": [
        {
          "output_type": "stream",
          "name": "stdout",
          "text": [
            "train_input.shape:  (862, 17)\n"
          ]
        }
      ]
    },
    {
      "cell_type": "code",
      "source": [
        "import tensorflow as tf\n",
        "from tensorflow import keras"
      ],
      "metadata": {
        "id": "a5kThEbuUq9X"
      },
      "execution_count": null,
      "outputs": []
    },
    {
      "cell_type": "code",
      "source": [
        "model = keras.models.Sequential()\n",
        "model.add(keras.Input(shape=(17,))) # we need to specify input\n",
        "model.add(keras.layers.Dense(32, activation='tanh'))\n",
        "model.add(keras.layers.Dense(4, activation='softmax'))\n",
        "\n",
        "model.summary()"
      ],
      "metadata": {
        "colab": {
          "base_uri": "https://localhost:8080/"
        },
        "id": "5Tb1QCzbUpYj",
        "outputId": "9d175439-37df-4451-8a54-355f0933ffc1"
      },
      "execution_count": null,
      "outputs": [
        {
          "output_type": "stream",
          "name": "stdout",
          "text": [
            "Model: \"sequential_10\"\n",
            "_________________________________________________________________\n",
            " Layer (type)                Output Shape              Param #   \n",
            "=================================================================\n",
            " dense_22 (Dense)            (None, 32)                576       \n",
            "                                                                 \n",
            " dense_23 (Dense)            (None, 4)                 132       \n",
            "                                                                 \n",
            "=================================================================\n",
            "Total params: 708\n",
            "Trainable params: 708\n",
            "Non-trainable params: 0\n",
            "_________________________________________________________________\n"
          ]
        }
      ]
    },
    {
      "cell_type": "code",
      "source": [
        "model.compile(loss='sparse_categorical_crossentropy',\n",
        "              optimizer='sgd',\n",
        "              metrics=['accuracy'])"
      ],
      "metadata": {
        "id": "qCjJSEzeVsGx"
      },
      "execution_count": null,
      "outputs": []
    },
    {
      "cell_type": "code",
      "source": [
        "history = model.fit(train_input, train_output, batch_size=16, epochs=100) # check out batch size and compare it with training instances"
      ],
      "metadata": {
        "colab": {
          "base_uri": "https://localhost:8080/"
        },
        "id": "N4G6WBqgVs-0",
        "outputId": "07ab7617-c7be-42c8-9f61-257b1be54719"
      },
      "execution_count": null,
      "outputs": [
        {
          "output_type": "stream",
          "name": "stdout",
          "text": [
            "Epoch 1/100\n",
            "54/54 [==============================] - 0s 1ms/step - loss: 0.9064 - accuracy: 0.6357\n",
            "Epoch 2/100\n",
            "54/54 [==============================] - 0s 1ms/step - loss: 0.9050 - accuracy: 0.6334\n",
            "Epoch 3/100\n",
            "54/54 [==============================] - 0s 2ms/step - loss: 0.9043 - accuracy: 0.6392\n",
            "Epoch 4/100\n",
            "54/54 [==============================] - 0s 1ms/step - loss: 0.9031 - accuracy: 0.6323\n",
            "Epoch 5/100\n",
            "54/54 [==============================] - 0s 1ms/step - loss: 0.9020 - accuracy: 0.6415\n",
            "Epoch 6/100\n",
            "54/54 [==============================] - 0s 1ms/step - loss: 0.9004 - accuracy: 0.6392\n",
            "Epoch 7/100\n",
            "54/54 [==============================] - 0s 1ms/step - loss: 0.8998 - accuracy: 0.6415\n",
            "Epoch 8/100\n",
            "54/54 [==============================] - 0s 1ms/step - loss: 0.8988 - accuracy: 0.6392\n",
            "Epoch 9/100\n",
            "54/54 [==============================] - 0s 1ms/step - loss: 0.8974 - accuracy: 0.6497\n",
            "Epoch 10/100\n",
            "54/54 [==============================] - 0s 1ms/step - loss: 0.8963 - accuracy: 0.6415\n",
            "Epoch 11/100\n",
            "54/54 [==============================] - 0s 1ms/step - loss: 0.8953 - accuracy: 0.6473\n",
            "Epoch 12/100\n",
            "54/54 [==============================] - 0s 1ms/step - loss: 0.8940 - accuracy: 0.6439\n",
            "Epoch 13/100\n",
            "54/54 [==============================] - 0s 1ms/step - loss: 0.8934 - accuracy: 0.6462\n",
            "Epoch 14/100\n",
            "54/54 [==============================] - 0s 1ms/step - loss: 0.8919 - accuracy: 0.6439\n",
            "Epoch 15/100\n",
            "54/54 [==============================] - 0s 2ms/step - loss: 0.8908 - accuracy: 0.6439\n",
            "Epoch 16/100\n",
            "54/54 [==============================] - 0s 1ms/step - loss: 0.8900 - accuracy: 0.6427\n",
            "Epoch 17/100\n",
            "54/54 [==============================] - 0s 1ms/step - loss: 0.8888 - accuracy: 0.6415\n",
            "Epoch 18/100\n",
            "54/54 [==============================] - 0s 1ms/step - loss: 0.8875 - accuracy: 0.6485\n",
            "Epoch 19/100\n",
            "54/54 [==============================] - 0s 1ms/step - loss: 0.8863 - accuracy: 0.6497\n",
            "Epoch 20/100\n",
            "54/54 [==============================] - 0s 1ms/step - loss: 0.8852 - accuracy: 0.6520\n",
            "Epoch 21/100\n",
            "54/54 [==============================] - 0s 1ms/step - loss: 0.8845 - accuracy: 0.6485\n",
            "Epoch 22/100\n",
            "54/54 [==============================] - 0s 1ms/step - loss: 0.8832 - accuracy: 0.6543\n",
            "Epoch 23/100\n",
            "54/54 [==============================] - 0s 1ms/step - loss: 0.8824 - accuracy: 0.6520\n",
            "Epoch 24/100\n",
            "54/54 [==============================] - 0s 1ms/step - loss: 0.8809 - accuracy: 0.6473\n",
            "Epoch 25/100\n",
            "54/54 [==============================] - 0s 1ms/step - loss: 0.8796 - accuracy: 0.6508\n",
            "Epoch 26/100\n",
            "54/54 [==============================] - 0s 1ms/step - loss: 0.8786 - accuracy: 0.6555\n",
            "Epoch 27/100\n",
            "54/54 [==============================] - 0s 1ms/step - loss: 0.8776 - accuracy: 0.6589\n",
            "Epoch 28/100\n",
            "54/54 [==============================] - 0s 1ms/step - loss: 0.8770 - accuracy: 0.6543\n",
            "Epoch 29/100\n",
            "54/54 [==============================] - 0s 1ms/step - loss: 0.8761 - accuracy: 0.6543\n",
            "Epoch 30/100\n",
            "54/54 [==============================] - 0s 1ms/step - loss: 0.8743 - accuracy: 0.6531\n",
            "Epoch 31/100\n",
            "54/54 [==============================] - 0s 2ms/step - loss: 0.8733 - accuracy: 0.6566\n",
            "Epoch 32/100\n",
            "54/54 [==============================] - 0s 1ms/step - loss: 0.8726 - accuracy: 0.6543\n",
            "Epoch 33/100\n",
            "54/54 [==============================] - 0s 1ms/step - loss: 0.8713 - accuracy: 0.6555\n",
            "Epoch 34/100\n",
            "54/54 [==============================] - 0s 1ms/step - loss: 0.8702 - accuracy: 0.6566\n",
            "Epoch 35/100\n",
            "54/54 [==============================] - 0s 1ms/step - loss: 0.8694 - accuracy: 0.6543\n",
            "Epoch 36/100\n",
            "54/54 [==============================] - 0s 1ms/step - loss: 0.8676 - accuracy: 0.6624\n",
            "Epoch 37/100\n",
            "54/54 [==============================] - 0s 1ms/step - loss: 0.8670 - accuracy: 0.6566\n",
            "Epoch 38/100\n",
            "54/54 [==============================] - 0s 1ms/step - loss: 0.8660 - accuracy: 0.6601\n",
            "Epoch 39/100\n",
            "54/54 [==============================] - 0s 1ms/step - loss: 0.8651 - accuracy: 0.6636\n",
            "Epoch 40/100\n",
            "54/54 [==============================] - 0s 1ms/step - loss: 0.8639 - accuracy: 0.6566\n",
            "Epoch 41/100\n",
            "54/54 [==============================] - 0s 1ms/step - loss: 0.8630 - accuracy: 0.6566\n",
            "Epoch 42/100\n",
            "54/54 [==============================] - 0s 1ms/step - loss: 0.8622 - accuracy: 0.6636\n",
            "Epoch 43/100\n",
            "54/54 [==============================] - 0s 1ms/step - loss: 0.8606 - accuracy: 0.6613\n",
            "Epoch 44/100\n",
            "54/54 [==============================] - 0s 2ms/step - loss: 0.8596 - accuracy: 0.6543\n",
            "Epoch 45/100\n",
            "54/54 [==============================] - 0s 1ms/step - loss: 0.8581 - accuracy: 0.6636\n",
            "Epoch 46/100\n",
            "54/54 [==============================] - 0s 1ms/step - loss: 0.8575 - accuracy: 0.6555\n",
            "Epoch 47/100\n",
            "54/54 [==============================] - 0s 1ms/step - loss: 0.8568 - accuracy: 0.6647\n",
            "Epoch 48/100\n",
            "54/54 [==============================] - 0s 1ms/step - loss: 0.8552 - accuracy: 0.6601\n",
            "Epoch 49/100\n",
            "54/54 [==============================] - 0s 1ms/step - loss: 0.8545 - accuracy: 0.6578\n",
            "Epoch 50/100\n",
            "54/54 [==============================] - 0s 1ms/step - loss: 0.8530 - accuracy: 0.6613\n",
            "Epoch 51/100\n",
            "54/54 [==============================] - 0s 1ms/step - loss: 0.8523 - accuracy: 0.6601\n",
            "Epoch 52/100\n",
            "54/54 [==============================] - 0s 1ms/step - loss: 0.8509 - accuracy: 0.6624\n",
            "Epoch 53/100\n",
            "54/54 [==============================] - 0s 1ms/step - loss: 0.8499 - accuracy: 0.6636\n",
            "Epoch 54/100\n",
            "54/54 [==============================] - 0s 1ms/step - loss: 0.8490 - accuracy: 0.6636\n",
            "Epoch 55/100\n",
            "54/54 [==============================] - 0s 2ms/step - loss: 0.8480 - accuracy: 0.6601\n",
            "Epoch 56/100\n",
            "54/54 [==============================] - 0s 1ms/step - loss: 0.8467 - accuracy: 0.6589\n",
            "Epoch 57/100\n",
            "54/54 [==============================] - 0s 1ms/step - loss: 0.8462 - accuracy: 0.6682\n",
            "Epoch 58/100\n",
            "54/54 [==============================] - 0s 1ms/step - loss: 0.8447 - accuracy: 0.6624\n",
            "Epoch 59/100\n",
            "54/54 [==============================] - 0s 1ms/step - loss: 0.8434 - accuracy: 0.6659\n",
            "Epoch 60/100\n",
            "54/54 [==============================] - 0s 1ms/step - loss: 0.8426 - accuracy: 0.6589\n",
            "Epoch 61/100\n",
            "54/54 [==============================] - 0s 1ms/step - loss: 0.8418 - accuracy: 0.6659\n",
            "Epoch 62/100\n",
            "54/54 [==============================] - 0s 1ms/step - loss: 0.8408 - accuracy: 0.6624\n",
            "Epoch 63/100\n",
            "54/54 [==============================] - 0s 1ms/step - loss: 0.8395 - accuracy: 0.6682\n",
            "Epoch 64/100\n",
            "54/54 [==============================] - 0s 1ms/step - loss: 0.8382 - accuracy: 0.6636\n",
            "Epoch 65/100\n",
            "54/54 [==============================] - 0s 1ms/step - loss: 0.8374 - accuracy: 0.6636\n",
            "Epoch 66/100\n",
            "54/54 [==============================] - 0s 2ms/step - loss: 0.8369 - accuracy: 0.6613\n",
            "Epoch 67/100\n",
            "54/54 [==============================] - 0s 1ms/step - loss: 0.8352 - accuracy: 0.6601\n",
            "Epoch 68/100\n",
            "54/54 [==============================] - 0s 1ms/step - loss: 0.8344 - accuracy: 0.6671\n",
            "Epoch 69/100\n",
            "54/54 [==============================] - 0s 1ms/step - loss: 0.8331 - accuracy: 0.6636\n",
            "Epoch 70/100\n",
            "54/54 [==============================] - 0s 1ms/step - loss: 0.8326 - accuracy: 0.6671\n",
            "Epoch 71/100\n",
            "54/54 [==============================] - 0s 1ms/step - loss: 0.8308 - accuracy: 0.6694\n",
            "Epoch 72/100\n",
            "54/54 [==============================] - 0s 1ms/step - loss: 0.8299 - accuracy: 0.6682\n",
            "Epoch 73/100\n",
            "54/54 [==============================] - 0s 1ms/step - loss: 0.8287 - accuracy: 0.6671\n",
            "Epoch 74/100\n",
            "54/54 [==============================] - 0s 1ms/step - loss: 0.8280 - accuracy: 0.6671\n",
            "Epoch 75/100\n",
            "54/54 [==============================] - 0s 2ms/step - loss: 0.8266 - accuracy: 0.6671\n",
            "Epoch 76/100\n",
            "54/54 [==============================] - 0s 1ms/step - loss: 0.8262 - accuracy: 0.6694\n",
            "Epoch 77/100\n",
            "54/54 [==============================] - 0s 1ms/step - loss: 0.8246 - accuracy: 0.6717\n",
            "Epoch 78/100\n",
            "54/54 [==============================] - 0s 1ms/step - loss: 0.8234 - accuracy: 0.6647\n",
            "Epoch 79/100\n",
            "54/54 [==============================] - 0s 1ms/step - loss: 0.8229 - accuracy: 0.6705\n",
            "Epoch 80/100\n",
            "54/54 [==============================] - 0s 1ms/step - loss: 0.8219 - accuracy: 0.6671\n",
            "Epoch 81/100\n",
            "54/54 [==============================] - 0s 2ms/step - loss: 0.8206 - accuracy: 0.6729\n",
            "Epoch 82/100\n",
            "54/54 [==============================] - 0s 1ms/step - loss: 0.8200 - accuracy: 0.6798\n",
            "Epoch 83/100\n",
            "54/54 [==============================] - 0s 1ms/step - loss: 0.8183 - accuracy: 0.6787\n",
            "Epoch 84/100\n",
            "54/54 [==============================] - 0s 1ms/step - loss: 0.8176 - accuracy: 0.6833\n",
            "Epoch 85/100\n",
            "54/54 [==============================] - 0s 1ms/step - loss: 0.8166 - accuracy: 0.6717\n",
            "Epoch 86/100\n",
            "54/54 [==============================] - 0s 1ms/step - loss: 0.8152 - accuracy: 0.6775\n",
            "Epoch 87/100\n",
            "54/54 [==============================] - 0s 1ms/step - loss: 0.8146 - accuracy: 0.6763\n",
            "Epoch 88/100\n",
            "54/54 [==============================] - 0s 1ms/step - loss: 0.8133 - accuracy: 0.6763\n",
            "Epoch 89/100\n",
            "54/54 [==============================] - 0s 1ms/step - loss: 0.8124 - accuracy: 0.6729\n",
            "Epoch 90/100\n",
            "54/54 [==============================] - 0s 1ms/step - loss: 0.8111 - accuracy: 0.6798\n",
            "Epoch 91/100\n",
            "54/54 [==============================] - 0s 1ms/step - loss: 0.8105 - accuracy: 0.6798\n",
            "Epoch 92/100\n",
            "54/54 [==============================] - 0s 1ms/step - loss: 0.8090 - accuracy: 0.6856\n",
            "Epoch 93/100\n",
            "54/54 [==============================] - 0s 2ms/step - loss: 0.8088 - accuracy: 0.6787\n",
            "Epoch 94/100\n",
            "54/54 [==============================] - 0s 1ms/step - loss: 0.8069 - accuracy: 0.6775\n",
            "Epoch 95/100\n",
            "54/54 [==============================] - 0s 1ms/step - loss: 0.8061 - accuracy: 0.6845\n",
            "Epoch 96/100\n",
            "54/54 [==============================] - 0s 1ms/step - loss: 0.8057 - accuracy: 0.6763\n",
            "Epoch 97/100\n",
            "54/54 [==============================] - 0s 2ms/step - loss: 0.8040 - accuracy: 0.6798\n",
            "Epoch 98/100\n",
            "54/54 [==============================] - 0s 1ms/step - loss: 0.8030 - accuracy: 0.6798\n",
            "Epoch 99/100\n",
            "54/54 [==============================] - 0s 1ms/step - loss: 0.8023 - accuracy: 0.6845\n",
            "Epoch 100/100\n",
            "54/54 [==============================] - 0s 1ms/step - loss: 0.8018 - accuracy: 0.6845\n"
          ]
        }
      ]
    },
    {
      "cell_type": "code",
      "source": [
        "model.evaluate( test_input, test_output )"
      ],
      "metadata": {
        "colab": {
          "base_uri": "https://localhost:8080/"
        },
        "id": "qw3eB7XHXIkR",
        "outputId": "21552eec-35fb-4030-a9e9-4d38d4fb818c"
      },
      "execution_count": null,
      "outputs": [
        {
          "output_type": "stream",
          "name": "stdout",
          "text": [
            "7/7 [==============================] - 0s 2ms/step - loss: 0.9932 - accuracy: 0.5787\n"
          ]
        },
        {
          "output_type": "execute_result",
          "data": {
            "text/plain": [
              "[0.9932020902633667, 0.5787037014961243]"
            ]
          },
          "metadata": {},
          "execution_count": 57
        }
      ]
    },
    {
      "cell_type": "code",
      "source": [
        "# let's make a beefier model\n",
        "model1 = keras.models.Sequential()\n",
        "model1.add(keras.Input(shape=(17,))) # we need to specify input\n",
        "model1.add(keras.layers.Dense(128, activation='tanh'))\n",
        "model1.add(keras.layers.Dense(4, activation='softmax'))\n",
        "\n",
        "model1.summary()"
      ],
      "metadata": {
        "colab": {
          "base_uri": "https://localhost:8080/"
        },
        "id": "J1j4S8X5Xiiy",
        "outputId": "c07db7c3-b2fc-4a57-a1b8-b3c263e091bd"
      },
      "execution_count": null,
      "outputs": [
        {
          "output_type": "stream",
          "name": "stdout",
          "text": [
            "Model: \"sequential_12\"\n",
            "_________________________________________________________________\n",
            " Layer (type)                Output Shape              Param #   \n",
            "=================================================================\n",
            " dense_27 (Dense)            (None, 128)               2304      \n",
            "                                                                 \n",
            " dense_28 (Dense)            (None, 4)                 516       \n",
            "                                                                 \n",
            "=================================================================\n",
            "Total params: 2,820\n",
            "Trainable params: 2,820\n",
            "Non-trainable params: 0\n",
            "_________________________________________________________________\n"
          ]
        }
      ]
    },
    {
      "cell_type": "code",
      "source": [
        "model1.compile(loss='sparse_categorical_crossentropy',\n",
        "              optimizer='sgd',\n",
        "              metrics=['accuracy'])"
      ],
      "metadata": {
        "id": "G8jsqARuXtCL"
      },
      "execution_count": null,
      "outputs": []
    },
    {
      "cell_type": "code",
      "source": [
        "history1 = model1.fit(train_input, train_output, epochs=100)"
      ],
      "metadata": {
        "colab": {
          "base_uri": "https://localhost:8080/"
        },
        "id": "Yp0vJpYWXwFl",
        "outputId": "49506074-59e4-4923-86eb-5a7c7f33c0cf"
      },
      "execution_count": null,
      "outputs": [
        {
          "output_type": "stream",
          "name": "stdout",
          "text": [
            "Epoch 1/100\n",
            "27/27 [==============================] - 0s 1ms/step - loss: 1.3724 - accuracy: 0.3411\n",
            "Epoch 2/100\n",
            "27/27 [==============================] - 0s 1ms/step - loss: 1.2215 - accuracy: 0.4722\n",
            "Epoch 3/100\n",
            "27/27 [==============================] - 0s 1ms/step - loss: 1.1572 - accuracy: 0.5325\n",
            "Epoch 4/100\n",
            "27/27 [==============================] - 0s 1ms/step - loss: 1.1256 - accuracy: 0.5487\n",
            "Epoch 5/100\n",
            "27/27 [==============================] - 0s 1ms/step - loss: 1.1069 - accuracy: 0.5510\n",
            "Epoch 6/100\n",
            "27/27 [==============================] - 0s 1ms/step - loss: 1.0943 - accuracy: 0.5452\n",
            "Epoch 7/100\n",
            "27/27 [==============================] - 0s 1ms/step - loss: 1.0845 - accuracy: 0.5580\n",
            "Epoch 8/100\n",
            "27/27 [==============================] - 0s 2ms/step - loss: 1.0771 - accuracy: 0.5580\n",
            "Epoch 9/100\n",
            "27/27 [==============================] - 0s 1ms/step - loss: 1.0704 - accuracy: 0.5580\n",
            "Epoch 10/100\n",
            "27/27 [==============================] - 0s 1ms/step - loss: 1.0654 - accuracy: 0.5557\n",
            "Epoch 11/100\n",
            "27/27 [==============================] - 0s 1ms/step - loss: 1.0603 - accuracy: 0.5580\n",
            "Epoch 12/100\n",
            "27/27 [==============================] - 0s 1ms/step - loss: 1.0566 - accuracy: 0.5603\n",
            "Epoch 13/100\n",
            "27/27 [==============================] - 0s 1ms/step - loss: 1.0533 - accuracy: 0.5650\n",
            "Epoch 14/100\n",
            "27/27 [==============================] - 0s 1ms/step - loss: 1.0499 - accuracy: 0.5708\n",
            "Epoch 15/100\n",
            "27/27 [==============================] - 0s 1ms/step - loss: 1.0471 - accuracy: 0.5673\n",
            "Epoch 16/100\n",
            "27/27 [==============================] - 0s 1ms/step - loss: 1.0445 - accuracy: 0.5684\n",
            "Epoch 17/100\n",
            "27/27 [==============================] - 0s 1ms/step - loss: 1.0422 - accuracy: 0.5684\n",
            "Epoch 18/100\n",
            "27/27 [==============================] - 0s 1ms/step - loss: 1.0400 - accuracy: 0.5719\n",
            "Epoch 19/100\n",
            "27/27 [==============================] - 0s 1ms/step - loss: 1.0375 - accuracy: 0.5708\n",
            "Epoch 20/100\n",
            "27/27 [==============================] - 0s 1ms/step - loss: 1.0359 - accuracy: 0.5754\n",
            "Epoch 21/100\n",
            "27/27 [==============================] - 0s 1ms/step - loss: 1.0341 - accuracy: 0.5754\n",
            "Epoch 22/100\n",
            "27/27 [==============================] - 0s 2ms/step - loss: 1.0324 - accuracy: 0.5754\n",
            "Epoch 23/100\n",
            "27/27 [==============================] - 0s 1ms/step - loss: 1.0306 - accuracy: 0.5800\n",
            "Epoch 24/100\n",
            "27/27 [==============================] - 0s 1ms/step - loss: 1.0288 - accuracy: 0.5777\n",
            "Epoch 25/100\n",
            "27/27 [==============================] - 0s 1ms/step - loss: 1.0279 - accuracy: 0.5800\n",
            "Epoch 26/100\n",
            "27/27 [==============================] - 0s 1ms/step - loss: 1.0270 - accuracy: 0.5800\n",
            "Epoch 27/100\n",
            "27/27 [==============================] - 0s 2ms/step - loss: 1.0251 - accuracy: 0.5800\n",
            "Epoch 28/100\n",
            "27/27 [==============================] - 0s 1ms/step - loss: 1.0238 - accuracy: 0.5835\n",
            "Epoch 29/100\n",
            "27/27 [==============================] - 0s 2ms/step - loss: 1.0226 - accuracy: 0.5847\n",
            "Epoch 30/100\n",
            "27/27 [==============================] - 0s 1ms/step - loss: 1.0212 - accuracy: 0.5882\n",
            "Epoch 31/100\n",
            "27/27 [==============================] - 0s 1ms/step - loss: 1.0204 - accuracy: 0.5905\n",
            "Epoch 32/100\n",
            "27/27 [==============================] - 0s 1ms/step - loss: 1.0192 - accuracy: 0.5893\n",
            "Epoch 33/100\n",
            "27/27 [==============================] - 0s 1ms/step - loss: 1.0185 - accuracy: 0.5916\n",
            "Epoch 34/100\n",
            "27/27 [==============================] - 0s 2ms/step - loss: 1.0173 - accuracy: 0.5882\n",
            "Epoch 35/100\n",
            "27/27 [==============================] - 0s 2ms/step - loss: 1.0165 - accuracy: 0.5882\n",
            "Epoch 36/100\n",
            "27/27 [==============================] - 0s 1ms/step - loss: 1.0152 - accuracy: 0.5870\n",
            "Epoch 37/100\n",
            "27/27 [==============================] - 0s 1ms/step - loss: 1.0146 - accuracy: 0.5928\n",
            "Epoch 38/100\n",
            "27/27 [==============================] - 0s 1ms/step - loss: 1.0135 - accuracy: 0.5940\n",
            "Epoch 39/100\n",
            "27/27 [==============================] - 0s 1ms/step - loss: 1.0131 - accuracy: 0.5951\n",
            "Epoch 40/100\n",
            "27/27 [==============================] - 0s 2ms/step - loss: 1.0122 - accuracy: 0.5928\n",
            "Epoch 41/100\n",
            "27/27 [==============================] - 0s 2ms/step - loss: 1.0115 - accuracy: 0.5963\n",
            "Epoch 42/100\n",
            "27/27 [==============================] - 0s 2ms/step - loss: 1.0105 - accuracy: 0.5940\n",
            "Epoch 43/100\n",
            "27/27 [==============================] - 0s 1ms/step - loss: 1.0095 - accuracy: 0.5916\n",
            "Epoch 44/100\n",
            "27/27 [==============================] - 0s 1ms/step - loss: 1.0086 - accuracy: 0.5963\n",
            "Epoch 45/100\n",
            "27/27 [==============================] - 0s 2ms/step - loss: 1.0080 - accuracy: 0.5974\n",
            "Epoch 46/100\n",
            "27/27 [==============================] - 0s 1ms/step - loss: 1.0078 - accuracy: 0.5986\n",
            "Epoch 47/100\n",
            "27/27 [==============================] - 0s 1ms/step - loss: 1.0073 - accuracy: 0.5951\n",
            "Epoch 48/100\n",
            "27/27 [==============================] - 0s 2ms/step - loss: 1.0061 - accuracy: 0.5905\n",
            "Epoch 49/100\n",
            "27/27 [==============================] - 0s 1ms/step - loss: 1.0054 - accuracy: 0.5951\n",
            "Epoch 50/100\n",
            "27/27 [==============================] - 0s 2ms/step - loss: 1.0049 - accuracy: 0.5951\n",
            "Epoch 51/100\n",
            "27/27 [==============================] - 0s 1ms/step - loss: 1.0041 - accuracy: 0.5951\n",
            "Epoch 52/100\n",
            "27/27 [==============================] - 0s 1ms/step - loss: 1.0032 - accuracy: 0.5963\n",
            "Epoch 53/100\n",
            "27/27 [==============================] - 0s 1ms/step - loss: 1.0028 - accuracy: 0.5916\n",
            "Epoch 54/100\n",
            "27/27 [==============================] - 0s 1ms/step - loss: 1.0028 - accuracy: 0.5916\n",
            "Epoch 55/100\n",
            "27/27 [==============================] - 0s 2ms/step - loss: 1.0017 - accuracy: 0.5974\n",
            "Epoch 56/100\n",
            "27/27 [==============================] - 0s 2ms/step - loss: 1.0009 - accuracy: 0.5928\n",
            "Epoch 57/100\n",
            "27/27 [==============================] - 0s 1ms/step - loss: 0.9999 - accuracy: 0.5940\n",
            "Epoch 58/100\n",
            "27/27 [==============================] - 0s 1ms/step - loss: 0.9996 - accuracy: 0.5940\n",
            "Epoch 59/100\n",
            "27/27 [==============================] - 0s 1ms/step - loss: 0.9989 - accuracy: 0.5974\n",
            "Epoch 60/100\n",
            "27/27 [==============================] - 0s 2ms/step - loss: 0.9983 - accuracy: 0.5963\n",
            "Epoch 61/100\n",
            "27/27 [==============================] - 0s 1ms/step - loss: 0.9979 - accuracy: 0.5974\n",
            "Epoch 62/100\n",
            "27/27 [==============================] - 0s 1ms/step - loss: 0.9973 - accuracy: 0.5963\n",
            "Epoch 63/100\n",
            "27/27 [==============================] - 0s 1ms/step - loss: 0.9967 - accuracy: 0.5951\n",
            "Epoch 64/100\n",
            "27/27 [==============================] - 0s 1ms/step - loss: 0.9963 - accuracy: 0.5963\n",
            "Epoch 65/100\n",
            "27/27 [==============================] - 0s 1ms/step - loss: 0.9955 - accuracy: 0.5963\n",
            "Epoch 66/100\n",
            "27/27 [==============================] - 0s 2ms/step - loss: 0.9949 - accuracy: 0.6021\n",
            "Epoch 67/100\n",
            "27/27 [==============================] - 0s 1ms/step - loss: 0.9942 - accuracy: 0.5963\n",
            "Epoch 68/100\n",
            "27/27 [==============================] - 0s 1ms/step - loss: 0.9938 - accuracy: 0.5998\n",
            "Epoch 69/100\n",
            "27/27 [==============================] - 0s 1ms/step - loss: 0.9936 - accuracy: 0.5940\n",
            "Epoch 70/100\n",
            "27/27 [==============================] - 0s 2ms/step - loss: 0.9931 - accuracy: 0.6009\n",
            "Epoch 71/100\n",
            "27/27 [==============================] - 0s 2ms/step - loss: 0.9922 - accuracy: 0.5974\n",
            "Epoch 72/100\n",
            "27/27 [==============================] - 0s 2ms/step - loss: 0.9914 - accuracy: 0.5998\n",
            "Epoch 73/100\n",
            "27/27 [==============================] - 0s 2ms/step - loss: 0.9913 - accuracy: 0.6021\n",
            "Epoch 74/100\n",
            "27/27 [==============================] - 0s 2ms/step - loss: 0.9908 - accuracy: 0.6021\n",
            "Epoch 75/100\n",
            "27/27 [==============================] - 0s 2ms/step - loss: 0.9901 - accuracy: 0.5963\n",
            "Epoch 76/100\n",
            "27/27 [==============================] - 0s 1ms/step - loss: 0.9896 - accuracy: 0.5928\n",
            "Epoch 77/100\n",
            "27/27 [==============================] - 0s 1ms/step - loss: 0.9890 - accuracy: 0.5951\n",
            "Epoch 78/100\n",
            "27/27 [==============================] - 0s 1ms/step - loss: 0.9883 - accuracy: 0.5963\n",
            "Epoch 79/100\n",
            "27/27 [==============================] - 0s 1ms/step - loss: 0.9882 - accuracy: 0.5986\n",
            "Epoch 80/100\n",
            "27/27 [==============================] - 0s 1ms/step - loss: 0.9875 - accuracy: 0.6021\n",
            "Epoch 81/100\n",
            "27/27 [==============================] - 0s 1ms/step - loss: 0.9864 - accuracy: 0.6032\n",
            "Epoch 82/100\n",
            "27/27 [==============================] - 0s 2ms/step - loss: 0.9864 - accuracy: 0.5998\n",
            "Epoch 83/100\n",
            "27/27 [==============================] - 0s 1ms/step - loss: 0.9855 - accuracy: 0.6021\n",
            "Epoch 84/100\n",
            "27/27 [==============================] - 0s 2ms/step - loss: 0.9851 - accuracy: 0.6032\n",
            "Epoch 85/100\n",
            "27/27 [==============================] - 0s 1ms/step - loss: 0.9847 - accuracy: 0.6056\n",
            "Epoch 86/100\n",
            "27/27 [==============================] - 0s 1ms/step - loss: 0.9843 - accuracy: 0.6032\n",
            "Epoch 87/100\n",
            "27/27 [==============================] - 0s 1ms/step - loss: 0.9838 - accuracy: 0.6032\n",
            "Epoch 88/100\n",
            "27/27 [==============================] - 0s 1ms/step - loss: 0.9833 - accuracy: 0.6079\n",
            "Epoch 89/100\n",
            "27/27 [==============================] - 0s 2ms/step - loss: 0.9829 - accuracy: 0.5974\n",
            "Epoch 90/100\n",
            "27/27 [==============================] - 0s 2ms/step - loss: 0.9822 - accuracy: 0.6067\n",
            "Epoch 91/100\n",
            "27/27 [==============================] - 0s 2ms/step - loss: 0.9819 - accuracy: 0.6032\n",
            "Epoch 92/100\n",
            "27/27 [==============================] - 0s 1ms/step - loss: 0.9812 - accuracy: 0.6032\n",
            "Epoch 93/100\n",
            "27/27 [==============================] - 0s 1ms/step - loss: 0.9802 - accuracy: 0.6032\n",
            "Epoch 94/100\n",
            "27/27 [==============================] - 0s 1ms/step - loss: 0.9800 - accuracy: 0.6067\n",
            "Epoch 95/100\n",
            "27/27 [==============================] - 0s 1ms/step - loss: 0.9798 - accuracy: 0.6032\n",
            "Epoch 96/100\n",
            "27/27 [==============================] - 0s 1ms/step - loss: 0.9790 - accuracy: 0.6079\n",
            "Epoch 97/100\n",
            "27/27 [==============================] - 0s 2ms/step - loss: 0.9784 - accuracy: 0.6067\n",
            "Epoch 98/100\n",
            "27/27 [==============================] - 0s 2ms/step - loss: 0.9778 - accuracy: 0.6090\n",
            "Epoch 99/100\n",
            "27/27 [==============================] - 0s 1ms/step - loss: 0.9775 - accuracy: 0.6021\n",
            "Epoch 100/100\n",
            "27/27 [==============================] - 0s 1ms/step - loss: 0.9766 - accuracy: 0.6079\n"
          ]
        }
      ]
    },
    {
      "cell_type": "code",
      "source": [
        "model1.evaluate( test_input, test_output )"
      ],
      "metadata": {
        "colab": {
          "base_uri": "https://localhost:8080/"
        },
        "id": "tAc9bIM2X4em",
        "outputId": "0995371b-40a4-45e1-f6ad-02032685bff6"
      },
      "execution_count": null,
      "outputs": [
        {
          "output_type": "stream",
          "name": "stdout",
          "text": [
            "7/7 [==============================] - 0s 4ms/step - loss: 0.9768 - accuracy: 0.6157\n"
          ]
        },
        {
          "output_type": "execute_result",
          "data": {
            "text/plain": [
              "[0.9768213629722595, 0.6157407164573669]"
            ]
          },
          "metadata": {},
          "execution_count": 62
        }
      ]
    }
  ]
}